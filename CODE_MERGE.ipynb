{
 "cells": [
  {
   "cell_type": "code",
   "execution_count": 1,
   "id": "73ef7636",
   "metadata": {},
   "outputs": [
    {
     "name": "stderr",
     "output_type": "stream",
     "text": [
      "INFO: Wrote 17 files from C:\\Users\\Moses\\math_ops\\OperatorMath to combined markdown.\n",
      "INFO: Number of folders processed: 1\n",
      "INFO: Combined markdown file written to: C:\\Users\\Moses\\math_ops\\OperatorMath_Combined_Codes.md\n"
     ]
    }
   ],
   "source": [
    "####### this code collects all .lean files from specified directories and writes each directory’s files into a combined markdown file #######\n",
    "import os\n",
    "import logging\n",
    "\n",
    "def collect_lean_files_and_write_combined(root_dir, groups, output_path):\n",
    "    \"\"\"\n",
    "    Traverse each specified directory under root_dir, collect all .lean files,\n",
    "    and write them into a single combined markdown file with code fences per directory.\n",
    "    \"\"\"\n",
    "    folders_processed = 0\n",
    "\n",
    "    with open(output_path, 'w', encoding='utf-8') as outf:\n",
    "        for group_name, dir_path in groups.items():\n",
    "            if not os.path.isdir(dir_path):\n",
    "                logging.warning(f\"Directory not found: {dir_path}\")\n",
    "                continue\n",
    "\n",
    "            lean_files = [\n",
    "                fname for fname in os.listdir(dir_path)\n",
    "                if fname.endswith(\".lean\") and os.path.isfile(os.path.join(dir_path, fname))\n",
    "            ]\n",
    "\n",
    "            if not lean_files:\n",
    "                logging.info(f\"No .lean files found in {dir_path}\")\n",
    "                continue\n",
    "\n",
    "            outf.write(f\"# Combined Lean files in {group_name}\\n\\n\")\n",
    "            for fname in sorted(lean_files):\n",
    "                file_path = os.path.join(dir_path, fname)\n",
    "                outf.write(f\"## {fname}\\n\\n\")\n",
    "                outf.write(\"```lean\\n\")\n",
    "                with open(file_path, 'r', encoding='utf-8') as inf:\n",
    "                    outf.write(inf.read())\n",
    "                outf.write(\"\\n```\\n\\n\")\n",
    "\n",
    "            logging.info(f\"Wrote {len(lean_files)} files from {dir_path} to combined markdown.\")\n",
    "            folders_processed += 1\n",
    "\n",
    "    logging.info(f\"Number of folders processed: {folders_processed}\")\n",
    "    logging.info(f\"Combined markdown file written to: {output_path}\")\n",
    "\n",
    "if __name__ == \"__main__\":\n",
    "    logging.basicConfig(level=logging.INFO, format=\"%(levelname)s: %(message)s\")\n",
    "\n",
    "    root_directory = r\"C:\\Users\\Moses\\math_ops\\OperatorMath\"\n",
    "\n",
    "    groups = {\n",
    "        \"OperatorMath\": root_directory,\n",
    "        # \"Supplements\": os.path.join(root_directory, \"Supplements\"),\n",
    "        # \"Tests\":      os.path.join(root_directory, \"Tests\"),\n",
    "    }\n",
    "\n",
    "    output_path = r\"C:\\Users\\Moses\\math_ops\\OperatorMath_Combined_Codes.md\"\n",
    "    collect_lean_files_and_write_combined(root_directory, groups, output_path)"
   ]
  },
  {
   "cell_type": "code",
   "execution_count": 9,
   "id": "6dcdedf7",
   "metadata": {},
   "outputs": [
    {
     "name": "stdout",
     "output_type": "stream",
     "text": [
      "Decoded Base64 to C:\\Users\\Moses\\math_ops\\operator_trace_calculus_verbatim_full.md\n"
     ]
    }
   ],
   "source": [
    "import base64\n",
    "\n",
    "b64_path = r\"C:\\Users\\Moses\\math_ops\\operator_trace_calculus_verbatim_full.md.b64\"\n",
    "out_path = r\"C:\\Users\\Moses\\math_ops\\operator_trace_calculus_verbatim_full.md\"\n",
    "\n",
    "with open(b64_path, \"r\", encoding=\"utf-8\") as f:\n",
    "    b64_data = f.read().strip()\n",
    "\n",
    "with open(out_path, \"wb\") as f:\n",
    "    f.write(base64.b64decode(b64_data))\n",
    "\n",
    "print(f\"Decoded Base64 to {out_path}\")"
   ]
  }
 ],
 "metadata": {
  "kernelspec": {
   "display_name": "Python 3",
   "language": "python",
   "name": "python3"
  },
  "language_info": {
   "codemirror_mode": {
    "name": "ipython",
    "version": 3
   },
   "file_extension": ".py",
   "mimetype": "text/x-python",
   "name": "python",
   "nbconvert_exporter": "python",
   "pygments_lexer": "ipython3",
   "version": "3.11.9"
  }
 },
 "nbformat": 4,
 "nbformat_minor": 5
}
