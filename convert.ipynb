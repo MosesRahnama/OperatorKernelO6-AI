{
 "cells": [
  {
   "cell_type": "code",
   "execution_count": null,
   "id": "ae6e8eda",
   "metadata": {},
   "outputs": [],
   "source": [
    "import subprocess\n",
    "import sys\n",
    "from pathlib import Path\n",
    "\n",
    "# Ensure required packages are installed\n",
    "def ensure_package(package_name):\n",
    "    try:\n",
    "        __import__(package_name)\n",
    "    except ImportError:\n",
    "        print(f\"Installing {package_name}...\")\n",
    "        subprocess.check_call([sys.executable, \"-m\", \"pip\", \"install\", package_name])\n",
    "\n",
    "# Install required packages\n",
    "ensure_package('markdown')\n",
    "ensure_package('pygments')  # For syntax highlighting\n",
    "\n",
    "# Now import your conversion script\n",
    "sys.path.append(str(Path.cwd() / 'scripts'))\n",
    "from convert_to_html import convert_md_to_html, convert_lean_to_html\n",
    "\n",
    "# Test the conversion\n",
    "test_md_file = Path(\"core_docs/O3-Pro-Jul-22-Formatted.md\")\n",
    "test_output_dir = Path(\"output\")\n",
    "test_output_dir.mkdir(exist_ok=True)\n",
    "\n",
    "if test_md_file.exists():\n",
    "    print(f\"Converting {test_md_file}...\")\n",
    "    result = convert_md_to_html(test_md_file, test_output_dir)\n",
    "    print(f\"Created: {result}\")\n",
    "    \n",
    "    # Open the result to verify\n",
    "    import webbrowser\n",
    "    webbrowser.open(f\"file://{result.absolute()}\")\n",
    "else:\n",
    "    print(f\"Test file not found: {test_md_file}\")"
   ]
  }
 ],
 "metadata": {
  "language_info": {
   "name": "python"
  }
 },
 "nbformat": 4,
 "nbformat_minor": 5
}
